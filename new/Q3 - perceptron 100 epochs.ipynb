{
 "cells": [
  {
   "cell_type": "code",
   "execution_count": null,
   "metadata": {
    "collapsed": true,
    "pycharm": {
     "name": "#%%\n"
    }
   },
   "outputs": [],
   "source": [
    "import numpy as np\n",
    "\n",
    "X1=[0.5,-1.1,0.24,-0.22,-1.8]\n",
    "X2=[0.15,-1.4,0.11,-0.28,-0.3]\n",
    "X3=[0.1,-1.4,0.11,0.6,-1.11]\n",
    "inputs = np.array([X1,X2,X3])\n",
    "\n",
    "w=[0.1, 0.17,0.2,-1.1, -0.4]\n",
    "\n",
    "d=np.array([1,-1,1])\n",
    "\n",
    "max_error = 0.001\n",
    "\n",
    "\n",
    "epochs = 0\n",
    "c = 0.6\n",
    "outputs = []\n",
    "e=10000\n",
    "list_e = []\n",
    "while(epochs<101):\n",
    "  # if e<max_error:\n",
    "  #   print(\"max epochs\")\n",
    "  #   print(epochs)\n",
    "  #   break;\n",
    "  epochs+=1\n",
    "  outputs=[]\n",
    "  for i in range(3):\n",
    "    y=0\n",
    "    for j in range(5):\n",
    "      y = y+ inputs[i][j]*w[j]\n",
    "    if y>0:\n",
    "      y=1\n",
    "    elif y<0:\n",
    "      y=-1\n",
    "    outputs.append(y)\n",
    "    w = w + c*(d[i]-y)*inputs[i];\n",
    "    print(outputs,w)\n",
    "  error = np.absolute(np.array(outputs) - np.array(d))\n",
    "  error = np.mean(error)\n",
    "  e=error;\n",
    "  list_e.append(e);\n",
    "  print(error)\n",
    "\n",
    "\n",
    "\n",
    "\n",
    "  list_e\n",
    "\n",
    "  import matplotlib.pyplot as plt\n",
    "\n",
    "plt.plot(list_e)\n",
    "\n"
   ]
  }
 ],
 "metadata": {
  "kernelspec": {
   "display_name": "Python 3",
   "language": "python",
   "name": "python3"
  },
  "language_info": {
   "codemirror_mode": {
    "name": "ipython",
    "version": 2
   },
   "file_extension": ".py",
   "mimetype": "text/x-python",
   "name": "python",
   "nbconvert_exporter": "python",
   "pygments_lexer": "ipython2",
   "version": "2.7.6"
  }
 },
 "nbformat": 4,
 "nbformat_minor": 0
}