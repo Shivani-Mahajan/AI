{
 "cells": [
  {
   "cell_type": "code",
   "execution_count": null,
   "metadata": {
    "collapsed": true,
    "pycharm": {
     "name": "#%%\n"
    }
   },
   "outputs": [],
   "source": [
    "import numpy as np\n",
    "import matplotlib as plt\n",
    "\n",
    "def fizzy(gama):\n",
    "  arr = np.linspace(0,20,100)\n",
    "  list_x = []\n",
    "  for i in arr:\n",
    "    factor = gama * abs((10/max(i,10))-(i/max(i,10)))\n",
    "\n",
    "    if factor==0:\n",
    "      x=1\n",
    "    elif factor>0 and factor<=1:\n",
    "      x = 1-factor\n",
    "    elif factor >1:\n",
    "      x =0\n",
    "    list_x.append(x)\n",
    "  return arr,list_x\n",
    "\n",
    "\n",
    "for i in range(1,6):\n",
    "  arr,list_x = fizzy(i)\n",
    "  plt.plot(arr,list_x)\n",
    "  plt.show()"
   ]
  }
 ],
 "metadata": {
  "kernelspec": {
   "display_name": "Python 3",
   "language": "python",
   "name": "python3"
  },
  "language_info": {
   "codemirror_mode": {
    "name": "ipython",
    "version": 2
   },
   "file_extension": ".py",
   "mimetype": "text/x-python",
   "name": "python",
   "nbconvert_exporter": "python",
   "pygments_lexer": "ipython2",
   "version": "2.7.6"
  }
 },
 "nbformat": 4,
 "nbformat_minor": 0
}